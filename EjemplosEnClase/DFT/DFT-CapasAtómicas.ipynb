{
 "cells": [
  {
   "cell_type": "code",
   "execution_count": 1,
   "id": "1defac4a-69d2-418b-b959-74f9f10a7094",
   "metadata": {},
   "outputs": [],
   "source": [
    "import sys\n",
    "import os"
   ]
  },
  {
   "cell_type": "code",
   "execution_count": 2,
   "id": "63184aa4-3ca5-4c0e-8c31-691a0f86e28e",
   "metadata": {},
   "outputs": [],
   "source": [
    "if 'google.colab' in sys.modules:\n",
    "    os.system('apt install python3-mpi4py cython3 libxc-dev gpaw-data')\n",
    "    os.system('pip install --upgrade gpaw pymatgen')"
   ]
  },
  {
   "cell_type": "code",
   "execution_count": 3,
   "id": "99f9e9bf-601d-4e97-a870-e9bdc564d901",
   "metadata": {},
   "outputs": [],
   "source": [
    "from ase.build import bulk\n",
    "from ase.atom import Atom\n",
    "from ase.atoms import Atoms\n",
    "from gpaw import GPAW, PW\n",
    "from ase.visualize.plot import plot_atoms\n",
    "from ase.visualize import view\n",
    "import numpy as np\n",
    "import matplotlib.pyplot as plt\n",
    "from tqdm.auto import tqdm\n",
    "plt.rc('figure', figsize=(18,6))\n",
    "plt.rc('font', size=20)\n",
    "from ase.eos import EquationOfState"
   ]
  },
  {
   "cell_type": "markdown",
   "id": "43cd2a31-d075-4a47-93f0-49f04ac9f947",
   "metadata": {},
   "source": [
    "otras funciones de conveniencia:"
   ]
  },
  {
   "cell_type": "code",
   "execution_count": 4,
   "id": "cbf0d996-c3ea-44b7-a8d6-3da8eec7ce1f",
   "metadata": {},
   "outputs": [],
   "source": [
    "def econvergence(E: list[float]):\n",
    "    return np.abs((E[:-1] - E[-1])/E[-1])\n",
    "\n",
    "def load_calc(filename, **kwargs):\n",
    "    if os.path.exists(filename):\n",
    "        calc = GPAW(filename)\n",
    "    else:\n",
    "        calc = GPAW(**kwargs)\n",
    "    return calc\n",
    "        "
   ]
  },
  {
   "cell_type": "markdown",
   "id": "eb755ae0-11dc-4a3c-87d7-736741675688",
   "metadata": {},
   "source": [
    "# Generamos la estructura"
   ]
  },
  {
   "cell_type": "markdown",
   "id": "b5689fa1-6cae-41b4-8998-71f9f5cd4442",
   "metadata": {},
   "source": [
    "la función [ase.build.bulk](https://wiki.fysik.dtu.dk/ase/ase/build/build.html?highlight=build) genera estructuras bulk, los argumentos son la composición química, la estructura cristalina, el parámetro de red y si se quiere una celda convencional o primitiva. El Output es un [objeto atoms](https://wiki.fysik.dtu.dk/ase/ase/atoms.html#ase.Atoms), que permitirá luego manipular sus componentes. Se puede pensar el estos objetos como listas de [objetos Atom](https://wiki.fysik.dtu.dk/ase/ase/atom.html#ase.atom.Atom), de átomos individuales"
   ]
  },
  {
   "cell_type": "code",
   "execution_count": 5,
   "id": "cb475358-0c09-465a-b83a-15f90d357743",
   "metadata": {},
   "outputs": [],
   "source": [
    "AuFCC = bulk('Au', 'fcc', a=4.2, cubic=True)"
   ]
  },
  {
   "cell_type": "code",
   "execution_count": 6,
   "id": "9ff68439-54c7-463f-96d4-5d8ab5638ecf",
   "metadata": {},
   "outputs": [
    {
     "name": "stdout",
     "output_type": "stream",
     "text": [
      "Atom('Au', [0.0, 0.0, 0.0], index=0)\n",
      "Atom('Au', [0.0, 2.1, 2.1], index=1)\n",
      "Atom('Au', [2.1, 0.0, 2.1], index=2)\n",
      "Atom('Au', [2.1, 2.1, 0.0], index=3)\n"
     ]
    }
   ],
   "source": [
    "printatoms = [print(at) for at in AuFCC]"
   ]
  },
  {
   "cell_type": "code",
   "execution_count": 7,
   "id": "509dd962-7fd7-49de-8b6d-f8f0a533f457",
   "metadata": {},
   "outputs": [
    {
     "data": {
      "text/plain": [
       "array([[0. , 0. , 0. ],\n",
       "       [0. , 2.1, 2.1],\n",
       "       [2.1, 0. , 2.1],\n",
       "       [2.1, 2.1, 0. ]])"
      ]
     },
     "execution_count": 7,
     "metadata": {},
     "output_type": "execute_result"
    }
   ],
   "source": [
    "AuFCC.positions"
   ]
  },
  {
   "cell_type": "markdown",
   "id": "dcde0b57-ab72-46cf-be73-d0b1c91caca1",
   "metadata": {},
   "source": [
    "Luego con la función plot_atoms podemos visualizarlos, pero la verdad es que no es muy buena, solo para visualizar la estructura rápidamente en el Jupyter Notebook"
   ]
  },
  {
   "cell_type": "code",
   "execution_count": 8,
   "id": "c55cf6f9-9cfd-4e89-b8d5-895b50fc5fec",
   "metadata": {},
   "outputs": [
    {
     "data": {
      "text/plain": [
       "<AxesSubplot:>"
      ]
     },
     "execution_count": 8,
     "metadata": {},
     "output_type": "execute_result"
    },
    {
     "data": {
      "image/png": "[encoded data removed]",
      "text/plain": [
       "<Figure size 432x288 with 1 Axes>"
      ]
     },
     "metadata": {
      "needs_background": "light"
     },
     "output_type": "display_data"
    }
   ],
   "source": [
    "plot_atoms(AuFCC, rotation='10x, 10y')"
   ]
  },
  {
   "cell_type": "markdown",
   "id": "3dec82cb-aca8-4844-b835-e7f08298adcf",
   "metadata": {},
   "source": [
    "o bien, para poder rotarlo a mano (pero no se si anda en google colab)\n"
   ]
  },
  {
   "cell_type": "markdown",
   "id": "0bebd456-559e-4f97-b0f6-b20ddb96e6bd",
   "metadata": {},
   "source": [
    "Una forma más presentable de visualizar las estructuras es usando por ejemplo [VESTA](http://www.jp-minerals.org/vesta/en/download.html) "
   ]
  },
  {
   "cell_type": "markdown",
   "id": "2d4accaa-1830-4455-a8d9-5160c4b34260",
   "metadata": {},
   "source": [
    "# Tareas\n",
    "1.  convergencia en puntos K y en ondas planas\n",
    "2. Calcular curva E-V  y ajustar parámetro de red.\n",
    "3. Generar Superficie\n",
    "3. Calcular estructura electrónica, i.e. densidad de estados. ¿Qué cambia ? "
   ]
  },
  {
   "cell_type": "markdown",
   "id": "4da412a7-2704-4ea8-a6cc-7bd42d044739",
   "metadata": {},
   "source": [
    "# Definimios la calculadora"
   ]
  },
  {
   "cell_type": "code",
   "execution_count": 9,
   "id": "b49c8957-2efd-4e48-b97f-e338378c8a2b",
   "metadata": {},
   "outputs": [
    {
     "data": {
      "text/plain": [
       "-12.251315393335263"
      ]
     },
     "execution_count": 9,
     "metadata": {},
     "output_type": "execute_result"
    }
   ],
   "source": [
    "calc = GPAW(mode=PW(300), xc='PBE', txt='SiBDiamondExample.txt',kpts=[5,5,5])\n",
    "AuFCC.set_calculator(calc)\n",
    "AuFCC.get_potential_energy()"
   ]
  },
  {
   "cell_type": "markdown",
   "id": "da36a569-3665-423c-a4bf-48d9d6ea88ff",
   "metadata": {},
   "source": [
    "# K-point convergence "
   ]
  },
  {
   "cell_type": "markdown",
   "id": "cc9d5cb5-d301-447e-98e4-5de11ef20105",
   "metadata": {},
   "source": [
    "con lo siguiente hacemos una carpeta donde se guardan los "
   ]
  },
  {
   "cell_type": "code",
   "execution_count": 10,
   "id": "829af696-f16f-410c-a567-76ec6d6f1e44",
   "metadata": {},
   "outputs": [],
   "source": [
    "import os"
   ]
  },
  {
   "cell_type": "code",
   "execution_count": 11,
   "id": "6c46d6a8-04a8-4500-94ce-e842b8efcbb6",
   "metadata": {},
   "outputs": [],
   "source": [
    "calcsdir='calcs_kpoints'\n",
    "if not os.path.exists(calcsdir):\n",
    "    os.makedirs(calcsdir)"
   ]
  },
  {
   "cell_type": "code",
   "execution_count": 12,
   "id": "d882aaf0-785c-473f-9f30-f28a57be714b",
   "metadata": {},
   "outputs": [],
   "source": [
    "structures = [('fcc', AuFCC, 4.2)]"
   ]
  },
  {
   "cell_type": "code",
   "execution_count": 13,
   "id": "26af8832-72ba-4e33-a64d-ecaf8085367c",
   "metadata": {},
   "outputs": [],
   "source": [
    "kpoints = [3, 4, 5,7,9,11,13]\n",
    "Ekpt = {}"
   ]
  },
  {
   "cell_type": "code",
   "execution_count": 14,
   "id": "e0dcbca9-5259-4c81-8e30-16aafa28c999",
   "metadata": {},
   "outputs": [
    {
     "data": {
      "application/vnd.jupyter.widget-view+json": {
       "model_id": "f3234f5e973248a8a47fadbf12f05515",
       "version_major": 2,
       "version_minor": 0
      },
      "text/plain": [
       "  0%|          | 0/7 [00:00<?, ?it/s]"
      ]
     },
     "metadata": {},
     "output_type": "display_data"
    }
   ],
   "source": [
    "for case in structures:\n",
    "    name, struc, latpar = case\n",
    "    Ekpt[name] = np.array([])\n",
    "    for kpt in tqdm(kpoints):\n",
    "        # Energía cinética de corte 300 eV. Divido celda en grilla de \"kpt*kpt*kpt\"\n",
    "        # archivos GPAW y txt a guardar \n",
    "        gpawfile =os.path.join(calcsdir, f'{name}_kpts_{kpt}.gpaw')\n",
    "        logfile = os.path.join(calcsdir, f'{name}_{kpt}.txt')\n",
    "        # cargo el calculador con la función definida antes\n",
    "        calc = load_calc(gpawfile, mode=PW(300), txt=logfile, xc='PBE', kpts=[kpt,kpt,kpt])\n",
    "        struc.set_calculator(calc)\n",
    "        # Divide la energía potencial por el número de átomos, para normalizar, por si llegara a comparar estructuras con diferente cantidad de átomos.\n",
    "        Ekpt[name]=np.append(Ekpt[name], struc.get_potential_energy()/struc.get_global_number_of_atoms())\n",
    "        struc.calc.write(gpawfile)"
   ]
  },
  {
   "cell_type": "code",
   "execution_count": 15,
   "id": "7444f87d-f82e-401b-87ed-e9e78f0437ab",
   "metadata": {},
   "outputs": [
    {
     "data": {
      "text/plain": [
       "<matplotlib.legend.Legend at 0x7ff43c647d00>"
      ]
     },
     "execution_count": 15,
     "metadata": {},
     "output_type": "execute_result"
    },
    {
     "data": {
      "image/png": "[encoded data removed]",
      "text/plain": [
       "<Figure size 432x288 with 1 Axes>"
      ]
     },
     "metadata": {
      "needs_background": "light"
     },
     "output_type": "display_data"
    }
   ],
   "source": [
    "plots = [plt.plot(kpoints[:-1], np.abs((energies[:-1]-energies[-1])/energies[-1]), '-o', label = struc) for struc, energies in Ekpt.items()]\n",
    "plt.yscale('log')\n",
    "plt.ylabel('$\\Delta E / E$')\n",
    "plt.xlabel('ḱpoits grid')\n",
    "plt.legend()"
   ]
  },
  {
   "cell_type": "code",
   "execution_count": 16,
   "id": "43f7704b-018c-4aef-a499-a1ed812af0b4",
   "metadata": {},
   "outputs": [],
   "source": [
    "KPT = 7"
   ]
  },
  {
   "cell_type": "code",
   "execution_count": null,
   "id": "f084b2cd-eb74-4142-8b04-1f42213726f9",
   "metadata": {},
   "outputs": [],
   "source": []
  },
  {
   "cell_type": "markdown",
   "id": "f06570f4-ca8d-4571-a6dd-7c1cc85c28da",
   "metadata": {},
   "source": [
    "# cutoff convergence"
   ]
  },
  {
   "cell_type": "code",
   "execution_count": 17,
   "id": "b07cebb2-a7e4-4a01-97de-28cb95adc8e6",
   "metadata": {},
   "outputs": [],
   "source": [
    "calcsdir = 'calcs_ecut'\n",
    "if not os.path.exists(calcsdir):\n",
    "    os.makedirs(calcsdir)"
   ]
  },
  {
   "cell_type": "code",
   "execution_count": 18,
   "id": "0182b0a3-0168-4669-9eba-d028f8c28288",
   "metadata": {},
   "outputs": [],
   "source": [
    "ecuts = [200, 250, 300, 400, 500,600]\n",
    "Ecutoff = {}"
   ]
  },
  {
   "cell_type": "code",
   "execution_count": 19,
   "id": "684488dd-a98a-46fb-8984-694bdaf4c0bb",
   "metadata": {},
   "outputs": [
    {
     "data": {
      "text/plain": [
       "[('fcc',\n",
       "  Atoms(symbols='Au4', pbc=True, cell=[4.2, 4.2, 4.2], calculator=GPAW(...)),\n",
       "  4.2)]"
      ]
     },
     "execution_count": 19,
     "metadata": {},
     "output_type": "execute_result"
    }
   ],
   "source": [
    "structures"
   ]
  },
  {
   "cell_type": "code",
   "execution_count": 20,
   "id": "cdfb4ef0-764c-44ed-a190-2e20f21569a3",
   "metadata": {
    "colab": {
     "base_uri": "https://localhost:8080/",
     "height": 81,
     "referenced_widgets": [
      "7ffd0baa89e140a7aeb7b1723e771dc0",
      "12004a4946a9415896d1f66956c4b3f2",
      "2bcf9658215742f69b2624a5847047c3",
      "51fb30f7992a416bb65d0985ad3f923f",
      "3e679185c2274ee9a3df6408cf6d6149",
      "80a65e0ed1204bc09f2b6b12f4691ad2",
      "9f80d312a12945d9a291564ee47541a9",
      "fcd499ba024f4c9fa3f00ead9dd2adfa",
      "5756cfd63f704387aaffb6bed4fc899d",
      "91d2219ad4fe44e69a82de7bb20a98ae",
      "3361cebc8b75499c8c8cef1f77d2eb3a",
      "5fa998bd19ec4f578ba405257c82cc62",
      "bc50f8aa9a714221b33c91f70c5b3b1e",
      "33730e19533944a4a822d8813b7eb802",
      "2fdf1dbe11aa42ef87a359471f01c018",
      "62752b6e3a00423da28379c62adfc633",
      "42224ee6fc11447f9ad9b550a70c4969",
      "be437fbc69f64219b684c04848a1e138",
      "aebb1765bab447bbb08b2227ba9526b1",
      "3f47610edbe24b3291b63d48a45f8228",
      "5d200974c4d74c70a456454ee32abddd",
      "070b191c00994ab89caad63f2784573c"
     ]
    },
    "executionInfo": {
     "elapsed": 813807,
     "status": "ok",
     "timestamp": 1656908637338,
     "user": {
      "displayName": "Alejandro Gabriel Szuban",
      "userId": "14370620094475548673"
     },
     "user_tz": 180
    },
    "id": "twxMMlO9Wjs5",
    "outputId": "5c499b99-ecc5-45d2-afc1-c8c6bfc9c396"
   },
   "outputs": [
    {
     "data": {
      "application/vnd.jupyter.widget-view+json": {
       "model_id": "555aa716e58240b69706be25ef64acfe",
       "version_major": 2,
       "version_minor": 0
      },
      "text/plain": [
       "  0%|          | 0/6 [00:00<?, ?it/s]"
      ]
     },
     "metadata": {},
     "output_type": "display_data"
    }
   ],
   "source": [
    "for case in structures:\n",
    "    name, struc, latpar = case\n",
    "    Ecutoff[name] = np.array([])\n",
    "    progress = tqdm(ecuts)\n",
    "    for ecut in progress:\n",
    "        filename = os.path.join(calcsdir, f'{name}_{ecut}.gpaw')\n",
    "        logfilename = os.path.join(calcsdir, f'{name}_{ecut}.txt')\n",
    "        # Energía cinética de corte \"ecut\" eV. Divido celda en grilla de \"KPT*KPT*KPT\".\n",
    "        calc = load_calc(filename, mode=PW(ecut), txt=logfilename, xc='PBE', kpts=[KPT,KPT,KPT])\n",
    "        struc.set_calculator(calc)\n",
    "        # Divide la energía potencial por el número de átomos, para normalizar, por si llegara a comparar estructuras con diferente cantidad de átomos.\n",
    "        Ecutoff[name]=np.append(Ecutoff[name], struc.get_potential_energy()/struc.get_global_number_of_atoms())\n",
    "        struc.calc.write(filename)"
   ]
  },
  {
   "cell_type": "code",
   "execution_count": 21,
   "id": "18dc7c37-3d56-453d-9435-08c0f7079dff",
   "metadata": {},
   "outputs": [
    {
     "data": {
      "text/plain": [
       "<matplotlib.legend.Legend at 0x7ff43c487d30>"
      ]
     },
     "execution_count": 21,
     "metadata": {},
     "output_type": "execute_result"
    },
    {
     "data": {
      "image/png": "[encoded data removed]",
      "text/plain": [
       "<Figure size 432x288 with 1 Axes>"
      ]
     },
     "metadata": {
      "needs_background": "light"
     },
     "output_type": "display_data"
    }
   ],
   "source": [
    "[plt.plot(ecuts[:-1], np.abs((energies[:-1]-energies[-1])/energies[-1]), label = name) for name, energies in Ecutoff.items()]\n",
    "plt.yscale('log')\n",
    "plt.ylabel('E(eV)')\n",
    "plt.xlabel('Cutoff Energy')\n",
    "plt.legend()"
   ]
  },
  {
   "cell_type": "code",
   "execution_count": 22,
   "id": "0ed3459d-37a0-41d9-9783-968a2fc0f9c3",
   "metadata": {},
   "outputs": [],
   "source": [
    "ECUT = 400"
   ]
  },
  {
   "cell_type": "markdown",
   "id": "82c8077e-5c48-4e77-b251-aba145baf2f5",
   "metadata": {},
   "source": [
    "# Lattice Parameter"
   ]
  },
  {
   "cell_type": "markdown",
   "id": "71fa72b5-dbc7-4585-b970-6e6e735619b8",
   "metadata": {},
   "source": [
    "funcion vieja"
   ]
  },
  {
   "cell_type": "markdown",
   "id": "9526c9ab-3b56-4672-9696-a7be871fa8bc",
   "metadata": {},
   "source": [
    "``` python\n",
    "def evcurve(element, structure, sizes, calculator):\n",
    "    print(f'working on {element} in {structure}')\n",
    "    structures = []\n",
    "    E = []\n",
    "    V = []\n",
    "    progress = tqdm(sizes)\n",
    "    for a in progress:\n",
    "        calc = GPAW(mode=PW(ECUT), xc='PBE', txt=f'{element}{structure}_{a}.txt',kpts=[KPT,KPT,KPT])\n",
    "        structures.append(bulk(element, structure, a=a, cubic=True))\n",
    "        structures[-1].set_calculator(calculator)\n",
    "        E.append(structures[-1].get_potential_energy())\n",
    "        V.append(structures[-1].get_volume())\n",
    "    return {'E': E, 'V': V, 'strucs': structures}\n",
    "\n",
    "latparams = {'fcc': np.linspace(3.8,4.5,10)}\n",
    "```"
   ]
  },
  {
   "cell_type": "markdown",
   "id": "50ff09eb-1248-4866-b05b-6b7a6b9eeb5f",
   "metadata": {},
   "source": [
    "funcion nueva:"
   ]
  },
  {
   "cell_type": "code",
   "execution_count": 23,
   "id": "5c10b985-d105-4078-8aab-1fb41feeb8dc",
   "metadata": {},
   "outputs": [],
   "source": [
    "import ase, gpaw\n",
    "def doevcurve(name: str, struc: ase.atoms.Atoms, sizes: np.ndarray, gpaw_kwargs:dict):\n",
    "    \"\"\"\n",
    "    name: str con el nombre de la estructura\n",
    "    struc: atoms object con la estructura a calcular\n",
    "    sizes: np.ndarray con los parametros de red para esta estructura\n",
    "    gpaw_kwargs: opciones para gpaw\n",
    "    \"\"\"\n",
    "    E = []\n",
    "    V = []\n",
    "    progress = tqdm(sizes)\n",
    "    for latpar in progress:\n",
    "        gpawfile = os.path.join(latparcalcs, f'{name}_latpar_{latpar:.2f}.gpaw')\n",
    "        logfile = os.path.join(latparcalcs, f'{name}_latpar_{latpar:.2f}.txt')\n",
    "        gpaw_kwargs.update({'txt': logfile})\n",
    "        calc = load_calc(gpawfile, **gpaw_kwargs)\n",
    "        struc.set_cell(latpar*np.eye(3), scale_atoms=True) # ojo, esto vale solo para cubicas !\n",
    "        struc.set_calculator(calc)\n",
    "        V.append(struc.get_volume())\n",
    "        E.append(struc.get_potential_energy())\n",
    "        struc.calc.write(gpawfile)\n",
    "    return {'V': V, 'E': E}\n",
    "        \n",
    "        \n"
   ]
  },
  {
   "cell_type": "markdown",
   "id": "c98326c1-41a9-4288-9751-4fafb5f4f27c",
   "metadata": {},
   "source": [
    "opciones gpaw:"
   ]
  },
  {
   "cell_type": "code",
   "execution_count": 24,
   "id": "cb91bca6-9eef-4282-ac12-59e46df5d52b",
   "metadata": {},
   "outputs": [],
   "source": [
    "GPAW_KWARGS = dict(mode=PW(ECUT), xc='PBE', kpts=[KPT,KPT,KPT])"
   ]
  },
  {
   "cell_type": "markdown",
   "id": "d5ad6836-0b15-4267-9867-324aa61f80f6",
   "metadata": {},
   "source": [
    "donde guardar resultados:"
   ]
  },
  {
   "cell_type": "code",
   "execution_count": 25,
   "id": "d45a39c2-f8f8-4c08-a823-370aafa77836",
   "metadata": {},
   "outputs": [],
   "source": [
    "latparcalcs = 'calcs_latpar'\n",
    "\n",
    "if not os.path.exists(latparcalcs):\n",
    "    os.makedirs(latparcalcs)"
   ]
  },
  {
   "cell_type": "code",
   "execution_count": 26,
   "id": "aedf1690-81d4-4fcb-a7ea-e929a714a1a4",
   "metadata": {},
   "outputs": [],
   "source": [
    "evcurves={}"
   ]
  },
  {
   "cell_type": "code",
   "execution_count": 27,
   "id": "6d5b236a-4da0-46b0-b02c-2fb388452f80",
   "metadata": {},
   "outputs": [
    {
     "data": {
      "text/plain": [
       "[('fcc',\n",
       "  Atoms(symbols='Au4', pbc=True, cell=[4.2, 4.2, 4.2], calculator=GPAW(...)),\n",
       "  4.2)]"
      ]
     },
     "execution_count": 27,
     "metadata": {},
     "output_type": "execute_result"
    }
   ],
   "source": [
    "structures"
   ]
  },
  {
   "cell_type": "code",
   "execution_count": 28,
   "id": "68cf1fac-6b47-43f5-b975-b739ec7c1382",
   "metadata": {
    "colab": {
     "base_uri": "https://localhost:8080/",
     "height": 360,
     "referenced_widgets": [
      "74ea7d81c60748b7854377f00ec86c14",
      "4b1fac9ceb674c42a7445978d3ce4008",
      "63f4d163311c431384f884126f41a46c",
      "e012801f6edf490e8585bd432df2a31a",
      "3d5efed98bd347fd86d9222bf3255d20",
      "3f98a9e24d414c7ab61669bc63f4cebf",
      "31d85ad851ad421d81904f034e0f5208",
      "0671a923c1fb4462b7930d54c0d310a3",
      "118311d316044b8a83e2ca49b4cb4af6",
      "84ee07f639264ad7aaad15932f42a61d",
      "a0db97fd7fb74b11b296e88217165ed0"
     ]
    },
    "executionInfo": {
     "elapsed": 14441,
     "status": "error",
     "timestamp": 1656911063976,
     "user": {
      "displayName": "Alejandro Gabriel Szuban",
      "userId": "14370620094475548673"
     },
     "user_tz": 180
    },
    "id": "bb84161c-7865-47bc-9d6d-4a2ee9697544",
    "outputId": "6f251760-68fd-4a61-8a78-3e94a673d6e1"
   },
   "outputs": [
    {
     "name": "stdout",
     "output_type": "stream",
     "text": [
      "4.2\n"
     ]
    },
    {
     "data": {
      "application/vnd.jupyter.widget-view+json": {
       "model_id": "2a87bae865724f6b86829893108ea072",
       "version_major": 2,
       "version_minor": 0
      },
      "text/plain": [
       "  0%|          | 0/10 [00:00<?, ?it/s]"
      ]
     },
     "metadata": {},
     "output_type": "display_data"
    }
   ],
   "source": [
    "for case in structures:\n",
    "    name, struc, guess = case\n",
    "    print(guess)\n",
    "    latparams = np.linspace(guess*0.95, guess*1.05, 10)\n",
    "    evcurves[name] = doevcurve(name,struc, latparams, GPAW_KWARGS)"
   ]
  },
  {
   "cell_type": "code",
   "execution_count": 29,
   "id": "70fba31e-3bb8-4248-bc1e-354e4bf843d4",
   "metadata": {},
   "outputs": [
    {
     "data": {
      "text/plain": [
       "4.2"
      ]
     },
     "execution_count": 29,
     "metadata": {},
     "output_type": "execute_result"
    }
   ],
   "source": [
    "guess"
   ]
  },
  {
   "cell_type": "code",
   "execution_count": 30,
   "id": "880b5cba-d23d-4cc5-a96c-b470d97256f9",
   "metadata": {
    "id": "880b5cba-d23d-4cc5-a96c-b470d97256f9",
    "outputId": "bb911812-d6ff-4b6b-dc41-c4b916b9e65f"
   },
   "outputs": [
    {
     "data": {
      "image/png": "[encoded data removed]",
      "text/plain": [
       "<Figure size 432x288 with 1 Axes>"
      ]
     },
     "metadata": {
      "needs_background": "light"
     },
     "output_type": "display_data"
    }
   ],
   "source": [
    "for (name, evcurve), case in zip(evcurves.items(), structures):\n",
    "    structure = case[1]\n",
    "    natoms = structure.get_global_number_of_atoms()\n",
    "    plt.plot(np.array(evcurve['V'])/natoms,np.array(evcurve['E'])/natoms, label=name)\n",
    "plt.legend()\n",
    "xlabel=plt.xlabel('atomic volume ($\\AA ^3 / atom $)')\n",
    "ylabel = plt.ylabel('E (eV / atom)')"
   ]
  },
  {
   "cell_type": "markdown",
   "id": "91f8a868-e326-4476-94c9-fe81eb7f73ee",
   "metadata": {},
   "source": [
    "# Ecuación de Estado "
   ]
  },
  {
   "cell_type": "code",
   "execution_count": 31,
   "id": "56b2d1bf-0be2-4695-aa5c-30937a5e08f2",
   "metadata": {},
   "outputs": [],
   "source": [
    "eos = EquationOfState(evcurves['fcc']['V'],evcurves['fcc']['E'],eos='birchmurnaghan')"
   ]
  },
  {
   "cell_type": "code",
   "execution_count": 32,
   "id": "cf5f0796-4b35-4e7a-9cec-5524af1f2cee",
   "metadata": {},
   "outputs": [
    {
     "data": {
      "text/plain": [
       "(72.80222747861319, -12.497324250717606, 0.8445097792424887)"
      ]
     },
     "execution_count": 32,
     "metadata": {},
     "output_type": "execute_result"
    }
   ],
   "source": [
    "eos.fit()"
   ]
  },
  {
   "cell_type": "code",
   "execution_count": 33,
   "id": "2011aeee-82cb-44f5-9ffc-71c608f49b21",
   "metadata": {},
   "outputs": [
    {
     "data": {
      "image/png": "[encoded data removed]",
      "text/plain": [
       "<Figure size 432x288 with 1 Axes>"
      ]
     },
     "metadata": {
      "needs_background": "light"
     },
     "output_type": "display_data"
    }
   ],
   "source": [
    "ax = eos.plot()\n",
    "title = ax.get_title()\n",
    "newtitle = ax.set_title('Al FCC ' + title)"
   ]
  },
  {
   "cell_type": "code",
   "execution_count": 34,
   "id": "d2dddbc1-c7c9-4743-93cd-f0bbac2956a3",
   "metadata": {},
   "outputs": [],
   "source": [
    "eqa = eos.v0**(1/3)"
   ]
  },
  {
   "cell_type": "code",
   "execution_count": 35,
   "id": "8a44bf54-5f74-456b-9242-d87dec7b2528",
   "metadata": {},
   "outputs": [
    {
     "data": {
      "text/plain": [
       "4.175561543335678"
      ]
     },
     "execution_count": 35,
     "metadata": {},
     "output_type": "execute_result"
    }
   ],
   "source": [
    "eqa"
   ]
  },
  {
   "cell_type": "markdown",
   "id": "2e09791a-66d2-4797-8e8b-a33871980118",
   "metadata": {},
   "source": [
    "# Generar una superficie de n capas "
   ]
  },
  {
   "cell_type": "markdown",
   "id": "6177fc8a-6d88-4a4c-a333-44cced18a551",
   "metadata": {},
   "source": [
    "Para modelar una superficie para cálculos DFT es necesario tomar un modelo de condiciones periódicas de contorno. Para modelar el clivaje del material, se introduce un vacío en la celda unidad que, para que se cumplan las condiciones de contorno periódicas, debe ser suficientemente grande. ASE nos brinda (herramientas)[https://wiki.fysik.dtu.dk/ase/ase/build/surface.html]  para construir superficies simples o bien en base a un objeto Atoms bulk ya presente, [ase.build.surface](https://wiki.fysik.dtu.dk/ase/ase/build/surface.html?highlight=surface#ase.build.surface)"
   ]
  },
  {
   "cell_type": "code",
   "execution_count": 36,
   "id": "dbb9905c-4b3f-425a-8f7d-c141e1af2d5f",
   "metadata": {},
   "outputs": [],
   "source": [
    "from ase.build import surface, fcc100, fcc110, fcc111, make_supercell"
   ]
  },
  {
   "cell_type": "code",
   "execution_count": 37,
   "id": "7deaec59-1506-444d-a2de-3a59afe995cf",
   "metadata": {},
   "outputs": [],
   "source": [
    "AuMonoLayer = fcc100('Au',[1,1,1], a=eqa, vacuum=10)"
   ]
  },
  {
   "cell_type": "code",
   "execution_count": 38,
   "id": "012f75da-6123-4e9a-8a7f-3623fba0dc00",
   "metadata": {},
   "outputs": [
    {
     "data": {
      "text/plain": [
       "<AxesSubplot:>"
      ]
     },
     "execution_count": 38,
     "metadata": {},
     "output_type": "execute_result"
    },
    {
     "data": {
      "image/png": "[encoded data removed]",
      "text/plain": [
       "<Figure size 432x288 with 1 Axes>"
      ]
     },
     "metadata": {
      "needs_background": "light"
     },
     "output_type": "display_data"
    }
   ],
   "source": [
    "plot_atoms(AuMonoLayer, rotation='90x, 10y, 10x')"
   ]
  },
  {
   "cell_type": "markdown",
   "id": "70c05ca9-ff03-4764-954e-c38e8233986a",
   "metadata": {},
   "source": [
    "con lo cual construimos una n-capa de oro fcc con índices de miller 100. para poder visualizar esta bicapa con mas repeticiones, podemos repetir mas veces la supercelda que acabamos de crear,"
   ]
  },
  {
   "cell_type": "code",
   "execution_count": 39,
   "id": "b06fe13f-50f2-4eed-b755-ecee4d3ce517",
   "metadata": {},
   "outputs": [],
   "source": [
    "AuMonoLayer_2x2 = make_supercell(AuMonoLayer, [[2,0,0],[0,2,0],[0,0,1]])\n",
    "AuMonoLayer_3x3 = make_supercell(AuMonoLayer, [[3,0,0],[0,3,0],[0,0,1]])\n",
    "AuMonoLayer_4x4 = make_supercell(AuMonoLayer, [[4,0,0],[0,4,0],[0,0,1]])"
   ]
  },
  {
   "cell_type": "code",
   "execution_count": 40,
   "id": "eb3101fb-543a-40e9-9042-f0e300c0a4bb",
   "metadata": {},
   "outputs": [
    {
     "data": {
      "text/plain": [
       "<AxesSubplot:>"
      ]
     },
     "execution_count": 40,
     "metadata": {},
     "output_type": "execute_result"
    },
    {
     "data": {
      "image/png": "[encoded data removed]",
      "text/plain": [
       "<Figure size 1440x360 with 4 Axes>"
      ]
     },
     "metadata": {
      "needs_background": "light"
     },
     "output_type": "display_data"
    }
   ],
   "source": [
    "fig, ax = plt.subplots(1,4,figsize=(20,5))\n",
    "plot_atoms(AuMonoLayer, rotation='90x, 10y, 10x', ax=ax[0])\n",
    "plot_atoms(AuMonoLayer_2x2, rotation='90x, 10y, 10x', ax=ax[1])\n",
    "plot_atoms(AuMonoLayer_3x3, rotation='90x, 10y, 10x', ax=ax[2])\n",
    "plot_atoms(AuMonoLayer_4x4, rotation='90x, 10y, 10x', ax=ax[3])"
   ]
  },
  {
   "cell_type": "markdown",
   "id": "6e848083-5727-4c53-9b09-e7f46277b392",
   "metadata": {},
   "source": [
    "# Calculos de superficies "
   ]
  },
  {
   "cell_type": "markdown",
   "id": "e5180f2b-81dc-4a8d-9d8d-e0756be29b6f",
   "metadata": {},
   "source": [
    "Para calcular superficies, se usa el objeto Atms con vacío , cambiand los KPOINTS a [KPT/n, KPT/n, 1] donde n es el numero de repeticiones en la supercelda"
   ]
  },
  {
   "cell_type": "code",
   "execution_count": 41,
   "id": "de251f48-4c10-416c-8ab8-c37f9f7b76c3",
   "metadata": {},
   "outputs": [
    {
     "data": {
      "text/plain": [
       "400"
      ]
     },
     "execution_count": 41,
     "metadata": {},
     "output_type": "execute_result"
    }
   ],
   "source": [
    "ECUT"
   ]
  },
  {
   "cell_type": "code",
   "execution_count": 42,
   "id": "dbca4416-82f0-436c-832f-4ec4f64778f3",
   "metadata": {},
   "outputs": [
    {
     "data": {
      "text/plain": [
       "7"
      ]
     },
     "execution_count": 42,
     "metadata": {},
     "output_type": "execute_result"
    }
   ],
   "source": [
    "KPT"
   ]
  },
  {
   "cell_type": "markdown",
   "id": "075f8ab4-b100-4edc-a29d-00368e5929be",
   "metadata": {},
   "source": [
    "y aca va para guardar tambien las monocapas:"
   ]
  },
  {
   "cell_type": "code",
   "execution_count": 43,
   "id": "5d9ecec4-f8d8-4477-a63b-6c578ce33d9e",
   "metadata": {},
   "outputs": [],
   "source": [
    "layers_dir = 'layers_calcs'"
   ]
  },
  {
   "cell_type": "code",
   "execution_count": 44,
   "id": "82bf8e81-b247-45fc-a71f-619b07c8b261",
   "metadata": {},
   "outputs": [],
   "source": [
    "if not os.path.exists(layers_dir):\n",
    "    os.makedirs(layers_dir)"
   ]
  },
  {
   "cell_type": "markdown",
   "id": "127c530d-26ae-47dc-aa68-1ea89fb4281b",
   "metadata": {},
   "source": [
    "# calc the monolayer: "
   ]
  },
  {
   "cell_type": "code",
   "execution_count": 45,
   "id": "fa1e3c71-e9d0-444e-8fb5-f53ed34aa024",
   "metadata": {},
   "outputs": [],
   "source": [
    "n = 1"
   ]
  },
  {
   "cell_type": "code",
   "execution_count": 46,
   "id": "8cfa7ccf-5400-4d36-b9b8-e8349b8cb82f",
   "metadata": {},
   "outputs": [],
   "source": [
    "monolayerfile = os.path.join(layers_dir, f'layer_{n}.gpaw')"
   ]
  },
  {
   "cell_type": "code",
   "execution_count": 47,
   "id": "a19f10cc-3192-475e-96f3-7ec2f5d2662d",
   "metadata": {},
   "outputs": [],
   "source": [
    "monolayerlog = os.path.join(layers_dir, f'layer_{n}.txt')"
   ]
  },
  {
   "cell_type": "code",
   "execution_count": 48,
   "id": "d28ae860-a7aa-469d-b278-e9ac93715cae",
   "metadata": {},
   "outputs": [],
   "source": [
    "GPAW_KWARGS = dict(mode=PW(ECUT), txt='AuMonolayer.txt', xc='PBE', kpts=[KPT, KPT, 1])"
   ]
  },
  {
   "cell_type": "code",
   "execution_count": 49,
   "id": "a6e38d39-e94d-471f-bd36-21ee5f2418c8",
   "metadata": {},
   "outputs": [],
   "source": [
    "calc = load_calc(monolayerfile, **GPAW_KWARGS)"
   ]
  },
  {
   "cell_type": "code",
   "execution_count": 50,
   "id": "82f8091c-3017-4cf3-b395-108341d20e78",
   "metadata": {},
   "outputs": [],
   "source": [
    "AuMonoLayer.set_calculator(calc)"
   ]
  },
  {
   "cell_type": "code",
   "execution_count": 51,
   "id": "b37012b2-1477-4b02-927d-99d8dbe0dfe4",
   "metadata": {},
   "outputs": [
    {
     "data": {
      "text/plain": [
       "-2.27315904994927"
      ]
     },
     "execution_count": 51,
     "metadata": {},
     "output_type": "execute_result"
    }
   ],
   "source": [
    "AuMonoLayer.get_potential_energy()"
   ]
  },
  {
   "cell_type": "markdown",
   "id": "22035ff9-064b-4c61-a613-e515854ee55c",
   "metadata": {},
   "source": [
    "guardar el calculo:"
   ]
  },
  {
   "cell_type": "code",
   "execution_count": 52,
   "id": "4bfb182b-6306-4382-82e3-d148b69b899f",
   "metadata": {},
   "outputs": [],
   "source": [
    "AuMonoLayer.calc.write(monolayerfile)"
   ]
  },
  {
   "cell_type": "markdown",
   "id": "5e0f89a9-01b7-44e5-89e5-b76dd457692b",
   "metadata": {},
   "source": [
    "# Densidad de Estados "
   ]
  },
  {
   "cell_type": "code",
   "execution_count": 53,
   "id": "62b5e7fc-e14f-4e57-9add-422512267d47",
   "metadata": {},
   "outputs": [],
   "source": [
    "AuFCC = bulk('Au', 'fcc', a=eqa)"
   ]
  },
  {
   "cell_type": "code",
   "execution_count": 54,
   "id": "0ccc2224-14d5-4e1f-acbf-968d29d7d163",
   "metadata": {},
   "outputs": [],
   "source": [
    "bulk_dos_file = os.path.join(layers_dir, f'bulk_{n}_dos.gpaw')\n",
    "bulk_dos_log = os.path.join(layers_dir, f'bulk_{n}_dos.txt')"
   ]
  },
  {
   "cell_type": "code",
   "execution_count": 55,
   "id": "c0fe02a4-8922-41c4-a631-cf4825d51aa2",
   "metadata": {},
   "outputs": [],
   "source": [
    "GPAW_KWARGS_BULK=dict(mode=PW(ECUT), xc='PBE', kpts=[15,15,15], txt=bulk_dos_log)"
   ]
  },
  {
   "cell_type": "code",
   "execution_count": 56,
   "id": "71528463-e0f9-428d-b5b6-9949bc37e252",
   "metadata": {},
   "outputs": [
    {
     "data": {
      "text/plain": [
       "-3.129676638651488"
      ]
     },
     "execution_count": 56,
     "metadata": {},
     "output_type": "execute_result"
    }
   ],
   "source": [
    "calc = load_calc(bulk_dos_file, **GPAW_KWARGS_BULK)\n",
    "AuFCC.set_calculator(calc)\n",
    "AuFCC.get_potential_energy()"
   ]
  },
  {
   "cell_type": "code",
   "execution_count": 57,
   "id": "685e32d8-1bea-465b-80dc-5f5465f04f19",
   "metadata": {},
   "outputs": [],
   "source": [
    "monolayer_dos_file = os.path.join(layers_dir, f'layer_{n}_dos.gpaw')\n",
    "monolayer_dos_log = os.path.join(layers_dir, f'layer_{n}_dos.txt')"
   ]
  },
  {
   "cell_type": "code",
   "execution_count": 58,
   "id": "36c9ec85-642b-4c52-979d-faad15a546f9",
   "metadata": {},
   "outputs": [],
   "source": [
    "GPAW_KWARGS_monolayer=dict(mode=PW(ECUT), xc='PBE', kpts=[15,15,1], txt=monolayer_dos_log)"
   ]
  },
  {
   "cell_type": "code",
   "execution_count": 59,
   "id": "aa908196-b372-44bd-bfe3-2734c4d0cf92",
   "metadata": {},
   "outputs": [
    {
     "data": {
      "text/plain": [
       "-2.239717619297238"
      ]
     },
     "execution_count": 59,
     "metadata": {},
     "output_type": "execute_result"
    }
   ],
   "source": [
    "calcML = load_calc(monolayer_dos_file, **GPAW_KWARGS_monolayer)\n",
    "AuMonoLayer.set_calculator(calcML)\n",
    "AuMonoLayer.get_potential_energy()"
   ]
  },
  {
   "cell_type": "code",
   "execution_count": 60,
   "id": "add36080-2cae-4789-b222-74714619d06c",
   "metadata": {},
   "outputs": [],
   "source": [
    "e,dos = AuFCC.calc.get_dos(npts=500)\n",
    "e2, dos_ml = AuMonoLayer.calc.get_dos(npts=500)\n",
    "ef = AuFCC.calc.get_fermi_level()\n",
    "efml = AuMonoLayer.calc.get_fermi_level()"
   ]
  },
  {
   "cell_type": "code",
   "execution_count": 61,
   "id": "dfd9eda6-f4fb-489d-8be7-84e768ec26c4",
   "metadata": {},
   "outputs": [
    {
     "data": {
      "text/plain": [
       "<matplotlib.legend.Legend at 0x7ff42e356340>"
      ]
     },
     "execution_count": 61,
     "metadata": {},
     "output_type": "execute_result"
    },
    {
     "data": {
      "image/png": "[encoded data removed]",
      "text/plain": [
       "<Figure size 432x288 with 1 Axes>"
      ]
     },
     "metadata": {
      "needs_background": "light"
     },
     "output_type": "display_data"
    }
   ],
   "source": [
    "plt.plot(e-ef,dos, label='bulk')\n",
    "plt.plot(e2-efml,dos_ml, label='Mono Layer')\n",
    "plt.axvline(color='k', linestyle='--')\n",
    "plt.xlabel('$E - E_f$ (eV)')\n",
    "plt.ylabel('DOS')\n",
    "plt.legend()"
   ]
  },
  {
   "cell_type": "markdown",
   "id": "1cc05de3-c7e9-4b26-a080-21445d27ea2a",
   "metadata": {},
   "source": [
    "# Tareas "
   ]
  },
  {
   "cell_type": "markdown",
   "id": "47e8b70f-35cd-480b-9be1-e1a3139c2cbd",
   "metadata": {},
   "source": [
    "- calcular más capas (1,2,3, etc) \n",
    "- ver si es posible recuperar la DOS del bulk\n",
    "- ¿Agregar impurezas en la superficie ?\n",
    "- ¿Agregar adsorbatos ?"
   ]
  },
  {
   "cell_type": "code",
   "execution_count": null,
   "id": "d81eea49-9318-4dd6-9b28-f4c9d5e0e025",
   "metadata": {},
   "outputs": [],
   "source": []
  }
 ],
 "metadata": {
  "kernelspec": {
   "display_name": "Python 3 (ipykernel)",
   "language": "python",
   "name": "python3"
  },
  "language_info": {
   "codemirror_mode": {
    "name": "ipython",
    "version": 3
   },
   "file_extension": ".py",
   "mimetype": "text/x-python",
   "name": "python",
   "nbconvert_exporter": "python",
   "pygments_lexer": "ipython3",
   "version": "3.9.12"
  }
 },
 "nbformat": 4,
 "nbformat_minor": 5
}
